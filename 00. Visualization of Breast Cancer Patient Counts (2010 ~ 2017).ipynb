{
 "cells": [
  {
   "cell_type": "markdown",
   "metadata": {},
   "source": [
    "### 00. Visualization of Patient Counts of Breast Cancer (2010 ~ 2017)"
   ]
  },
  {
   "cell_type": "code",
   "execution_count": 6,
   "metadata": {},
   "outputs": [
    {
     "data": {
      "text/html": [
       "<div>\n",
       "<style scoped>\n",
       "    .dataframe tbody tr th:only-of-type {\n",
       "        vertical-align: middle;\n",
       "    }\n",
       "\n",
       "    .dataframe tbody tr th {\n",
       "        vertical-align: top;\n",
       "    }\n",
       "\n",
       "    .dataframe thead th {\n",
       "        text-align: right;\n",
       "    }\n",
       "</style>\n",
       "<table border=\"1\" class=\"dataframe\">\n",
       "  <thead>\n",
       "    <tr style=\"text-align: right;\">\n",
       "      <th></th>\n",
       "      <th>2010</th>\n",
       "      <th>2011</th>\n",
       "      <th>2012</th>\n",
       "      <th>2013</th>\n",
       "      <th>2014</th>\n",
       "      <th>2015</th>\n",
       "      <th>2016</th>\n",
       "      <th>2017</th>\n",
       "    </tr>\n",
       "  </thead>\n",
       "  <tbody>\n",
       "    <tr>\n",
       "      <td>1</td>\n",
       "      <td>4285</td>\n",
       "      <td>6233</td>\n",
       "      <td>7722</td>\n",
       "      <td>8629</td>\n",
       "      <td>10578</td>\n",
       "      <td>11788</td>\n",
       "      <td>14065</td>\n",
       "      <td>15969</td>\n",
       "    </tr>\n",
       "  </tbody>\n",
       "</table>\n",
       "</div>"
      ],
      "text/plain": [
       "   2010  2011  2012  2013   2014   2015   2016   2017\n",
       "1  4285  6233  7722  8629  10578  11788  14065  15969"
      ]
     },
     "execution_count": 6,
     "metadata": {},
     "output_type": "execute_result"
    }
   ],
   "source": [
    "import matplotlib as mpl\n",
    "import matplotlib.pyplot as plt \n",
    "import numpy as np \n",
    "import os\n",
    "import pandas as pd \n",
    "import seaborn as sns\n",
    "mpl.rc('font', family='Malgun Gothic')\n",
    "mpl.rc('axes', unicode_minus=False)\n",
    "\n",
    "# show total patients of breast cancer (2010 ~ 2017)\n",
    "df = pd.read_excel('bc_region.xlsx', encoding='EUC-KR')\n",
    "tot_pat = df.iloc[1:2, 1:10]\n",
    "tot_pat"
   ]
  },
  {
   "cell_type": "code",
   "execution_count": 34,
   "metadata": {},
   "outputs": [
    {
     "data": {
      "image/png": "[encoded data removed]",
      "text/plain": [
       "<Figure size 432x288 with 1 Axes>"
      ]
     },
     "metadata": {},
     "output_type": "display_data"
    }
   ],
   "source": [
    "fig = plt.gcf()\n",
    "fig.patch.set_facecolor('xkcd:white')\n",
    "\n",
    "plt.plot(list(tot_pat.columns.astype(int)), list(tot_pat.iloc[0, :].astype(int)), 's--')\n",
    "plt.title('국내 유방암 발생율', size=20, pad=20, loc='center')\n",
    "plt.xlabel('연도', size=12)\n",
    "plt.ylabel('발생율', size=12)\n",
    "plt.grid(b=True, which='both', axis='both')"
   ]
  }
 ],
 "metadata": {
  "kernelspec": {
   "display_name": "Python 3",
   "language": "python",
   "name": "python3"
  },
  "language_info": {
   "codemirror_mode": {
    "name": "ipython",
    "version": 3
   },
   "file_extension": ".py",
   "mimetype": "text/x-python",
   "name": "python",
   "nbconvert_exporter": "python",
   "pygments_lexer": "ipython3",
   "version": "3.7.4"
  }
 },
 "nbformat": 4,
 "nbformat_minor": 4
}
