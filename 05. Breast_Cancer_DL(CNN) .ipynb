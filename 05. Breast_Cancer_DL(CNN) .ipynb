{
 "cells": [
  {
   "cell_type": "markdown",
   "metadata": {},
   "source": [
    "## - 유관 상피세포의 암세포가 기저막을 뚫고 통과하여 결합조직에 침범이 있는 경우를 \"침윤성 유관암(IDC; Invasive Ductal Carcinoma)이라 함\"\n",
    "\n",
    "\n",
    "## - 이미지에서 IDC를 Detection 하도록 학습시켜 유방암 진단모델 생성"
   ]
  },
  {
   "cell_type": "markdown",
   "metadata": {},
   "source": [
    "### 1. PREPARING DATA & PREPROCESSING\n",
    "50x50, png 형식의 유방 조직세포 이미지  277,524장 (198,738 IDC 음성 and 78,786 IDC 양성). "
   ]
  },
  {
   "cell_type": "code",
   "execution_count": 166,
   "metadata": {},
   "outputs": [],
   "source": [
    "from numpy.random import seed\n",
    "seed(101)\n",
    "from tensorflow import set_random_seed\n",
    "set_random_seed(101)\n",
    "\n",
    "import pandas as pd\n",
    "import numpy as np\n",
    "\n",
    "import tensorflow\n",
    "\n",
    "from tensorflow.keras.models import Sequential\n",
    "from tensorflow.keras.layers import Dense, Dropout, Conv2D, MaxPooling2D, Flatten\n",
    "from tensorflow.keras.optimizers import Adam\n",
    "from tensorflow.keras.metrics import categorical_crossentropy\n",
    "from tensorflow.keras.preprocessing.image import ImageDataGenerator\n",
    "from tensorflow.keras.models import Model\n",
    "from tensorflow.keras.callbacks import EarlyStopping, ReduceLROnPlateau, ModelCheckpoint\n",
    "\n",
    "import os\n",
    "import cv2\n",
    "\n",
    "import imageio\n",
    "import skimage\n",
    "import skimage.io\n",
    "import skimage.transform\n",
    "\n",
    "from sklearn.utils import shuffle\n",
    "from sklearn.metrics import confusion_matrix\n",
    "from sklearn.model_selection import train_test_split\n",
    "import itertools\n",
    "import shutil\n",
    "import matplotlib.pyplot as plt\n",
    "%matplotlib inline"
   ]
  },
  {
   "cell_type": "markdown",
   "metadata": {},
   "source": [
    "### Preprocessing"
   ]
  },
  {
   "cell_type": "code",
   "execution_count": 167,
   "metadata": {
    "collapsed": true,
    "jupyter": {
     "outputs_hidden": true
    }
   },
   "outputs": [
    {
     "data": {
      "text/plain": [
       "['10253',\n",
       " '10254',\n",
       " '10255',\n",
       " '10256',\n",
       " '10257',\n",
       " '10258',\n",
       " '10259',\n",
       " '10260',\n",
       " '10261',\n",
       " '10262',\n",
       " '10264',\n",
       " '10268',\n",
       " '10269',\n",
       " '10272',\n",
       " '10273',\n",
       " '10274',\n",
       " '10275',\n",
       " '10276',\n",
       " '10277',\n",
       " '10278',\n",
       " '10279',\n",
       " '10282',\n",
       " '10285',\n",
       " '10286',\n",
       " '10288',\n",
       " '10290',\n",
       " '10291',\n",
       " '10292',\n",
       " '10293',\n",
       " '10295',\n",
       " '10299',\n",
       " '10300',\n",
       " '10301',\n",
       " '10302',\n",
       " '10303',\n",
       " '10304',\n",
       " '10305',\n",
       " '10306',\n",
       " '10307',\n",
       " '10308',\n",
       " '12241',\n",
       " '12242',\n",
       " '12626',\n",
       " '12748',\n",
       " '12749',\n",
       " '12750',\n",
       " '12751',\n",
       " '12752',\n",
       " '12810',\n",
       " '12811',\n",
       " '12817',\n",
       " '12818',\n",
       " '12819',\n",
       " '12820',\n",
       " '12821',\n",
       " '12822',\n",
       " '12823',\n",
       " '12824',\n",
       " '12826',\n",
       " '12867',\n",
       " '12868',\n",
       " '12869',\n",
       " '12870',\n",
       " '12871',\n",
       " '12872',\n",
       " '12873',\n",
       " '12875',\n",
       " '12876',\n",
       " '12877',\n",
       " '12878',\n",
       " '12879',\n",
       " '12880',\n",
       " '12881',\n",
       " '12882',\n",
       " '12883',\n",
       " '12884',\n",
       " '12886',\n",
       " '12890',\n",
       " '12891',\n",
       " '12892',\n",
       " '12893',\n",
       " '12894',\n",
       " '12895',\n",
       " '12896',\n",
       " '12897',\n",
       " '12898',\n",
       " '12900',\n",
       " '12901',\n",
       " '12905',\n",
       " '12906',\n",
       " '12907',\n",
       " '12908',\n",
       " '12909',\n",
       " '12910',\n",
       " '12911',\n",
       " '12929',\n",
       " '12930',\n",
       " '12931',\n",
       " '12932',\n",
       " '12933',\n",
       " '12934',\n",
       " '12935',\n",
       " '12947',\n",
       " '12948',\n",
       " '12949',\n",
       " '12951',\n",
       " '12954',\n",
       " '12955',\n",
       " '13018',\n",
       " '13019',\n",
       " '13020',\n",
       " '13021',\n",
       " '13022',\n",
       " '13023',\n",
       " '13024',\n",
       " '13025',\n",
       " '13106',\n",
       " '13400',\n",
       " '13401',\n",
       " '13402',\n",
       " '13403',\n",
       " '13404',\n",
       " '13458',\n",
       " '13459',\n",
       " '13460',\n",
       " '13461',\n",
       " '13462',\n",
       " '13591',\n",
       " '13613',\n",
       " '13616',\n",
       " '13617',\n",
       " '13666',\n",
       " '13687',\n",
       " '13688',\n",
       " '13689',\n",
       " '13691',\n",
       " '13692',\n",
       " '13693',\n",
       " '13694',\n",
       " '13916',\n",
       " '14078',\n",
       " '14079',\n",
       " '14081',\n",
       " '14082',\n",
       " '14153',\n",
       " '14154',\n",
       " '14155',\n",
       " '14156',\n",
       " '14157',\n",
       " '14188',\n",
       " '14189',\n",
       " '14190',\n",
       " '14191',\n",
       " '14192',\n",
       " '14209',\n",
       " '14210',\n",
       " '14211',\n",
       " '14212',\n",
       " '14213',\n",
       " '14304',\n",
       " '14305',\n",
       " '14306',\n",
       " '14321',\n",
       " '15471',\n",
       " '15472',\n",
       " '15473',\n",
       " '15510',\n",
       " '15512',\n",
       " '15513',\n",
       " '15514',\n",
       " '15515',\n",
       " '15516',\n",
       " '15632',\n",
       " '15633',\n",
       " '15634',\n",
       " '15839',\n",
       " '15840',\n",
       " '15902',\n",
       " '15903',\n",
       " '16014',\n",
       " '16085',\n",
       " '16165',\n",
       " '16166',\n",
       " '16167',\n",
       " '16531',\n",
       " '16532',\n",
       " '16533',\n",
       " '16534',\n",
       " '16550',\n",
       " '16551',\n",
       " '16552',\n",
       " '16553',\n",
       " '16554',\n",
       " '16555',\n",
       " '16568',\n",
       " '16569',\n",
       " '16570',\n",
       " '16895',\n",
       " '16896',\n",
       " '8863',\n",
       " '8864',\n",
       " '8865',\n",
       " '8867',\n",
       " '8913',\n",
       " '8914',\n",
       " '8916',\n",
       " '8917',\n",
       " '8918',\n",
       " '8950',\n",
       " '8951',\n",
       " '8955',\n",
       " '8956',\n",
       " '8957',\n",
       " '8959',\n",
       " '8974',\n",
       " '8975',\n",
       " '8980',\n",
       " '8984',\n",
       " '9022',\n",
       " '9023',\n",
       " '9029',\n",
       " '9035',\n",
       " '9036',\n",
       " '9037',\n",
       " '9041',\n",
       " '9043',\n",
       " '9044',\n",
       " '9073',\n",
       " '9075',\n",
       " '9076',\n",
       " '9077',\n",
       " '9078',\n",
       " '9081',\n",
       " '9083',\n",
       " '9123',\n",
       " '9124',\n",
       " '9125',\n",
       " '9126',\n",
       " '9135',\n",
       " '9173',\n",
       " '9174',\n",
       " '9175',\n",
       " '9176',\n",
       " '9177',\n",
       " '9178',\n",
       " '9181',\n",
       " '9225',\n",
       " '9226',\n",
       " '9227',\n",
       " '9228',\n",
       " '9250',\n",
       " '9254',\n",
       " '9255',\n",
       " '9256',\n",
       " '9257',\n",
       " '9258',\n",
       " '9259',\n",
       " '9260',\n",
       " '9261',\n",
       " '9262',\n",
       " '9265',\n",
       " '9266',\n",
       " '9267',\n",
       " '9290',\n",
       " '9291',\n",
       " '9319',\n",
       " '9320',\n",
       " '9321',\n",
       " '9322',\n",
       " '9323',\n",
       " '9324',\n",
       " '9325',\n",
       " '9344',\n",
       " '9345',\n",
       " '9346',\n",
       " '9347',\n",
       " '9381',\n",
       " '9382',\n",
       " '9383']"
      ]
     },
     "execution_count": 167,
     "metadata": {},
     "output_type": "execute_result"
    }
   ],
   "source": [
    "# 이미지 데이터 폴더 탐색 및 폴더목록 리스트화(이후활용)\n",
    "# 폴더목록명은 각 환자의 ID\n",
    "os.listdir('IDC_regular_ps50_idx5')[0:10]"
   ]
  },
  {
   "cell_type": "code",
   "execution_count": 168,
   "metadata": {},
   "outputs": [
    {
     "data": {
      "text/plain": [
       "279"
      ]
     },
     "execution_count": 168,
     "metadata": {},
     "output_type": "execute_result"
    }
   ],
   "source": [
    "patients = os.listdir('IDC_regular_ps50_idx5')\n",
    "len(patients) #폴더 개수 확인"
   ]
  },
  {
   "cell_type": "code",
   "execution_count": 169,
   "metadata": {},
   "outputs": [],
   "source": [
    "# 각각 다른폴더에 저장된 이미지들을 한곳에 통합하기 위한 폴더 생성\n",
    "all_images_dir = 'all_images_dir'\n",
    "os.mkdir(all_images_dir)"
   ]
  },
  {
   "cell_type": "code",
   "execution_count": 170,
   "metadata": {},
   "outputs": [
    {
     "name": "stderr",
     "output_type": "stream",
     "text": [
      "'ls'은(는) 내부 또는 외부 명령, 실행할 수 있는 프로그램, 또는\n",
      "배치 파일이 아닙니다.\n"
     ]
    }
   ],
   "source": [
    "# all_images_dir 폴더 생성 확인\n",
    "!ls"
   ]
  },
  {
   "cell_type": "code",
   "execution_count": 171,
   "metadata": {},
   "outputs": [],
   "source": [
    "# 실행하는데 시간 많이 소요(이미지 파일 전체 복사과정이기 때문에)\n",
    "\n",
    "# all_images_dir라는 폴더로 모든 이미지 복사\n",
    "\n",
    "# 폴더명(환자ID)의 리스트를 만들어서 각 하위에 있는 0과 1폴더의 사진들을 분류.\n",
    "# 0과 1은 IDC(종양)의 negative와 positive를 뜻함\n",
    "\n",
    "patient_list = os.listdir('IDC_regular_ps50_idx5')\n",
    "\n",
    "for patient in patient_list:\n",
    "    \n",
    "    path_0 = 'IDC_regular_ps50_idx5/' + str(patient) + '/0' # 모든 각 환자 폴더의 하위폴더 0에 있는 이미지를 path_0에 모두 저장한다.\n",
    "    path_1 = 'IDC_regular_ps50_idx5/' + str(patient) + '/1' # 모든 각 환자 폴더의 하위폴더 1에 있는 이미지를 path_1에 모두 저장한다.\n",
    "\n",
    "\n",
    "    # file_list_0이라는 폴더를 만들어 0에 해당하는 이미지 모두 저장\n",
    "    file_list_0 = os.listdir(path_0)\n",
    "    # file_list_1이라는 폴더를 만들어 1에 해당하는 이미지 모두 저장\n",
    "    file_list_1 = os.listdir(path_1)\n",
    "\n",
    "    # 결과 0에 해당하는 이미지를 all_images_dir폴더에 저장\n",
    "    for fname in file_list_0:\n",
    "\n",
    "        # src라는 파일이름으로 원본파일이름을 저장\n",
    "        src = os.path.join(path_0, fname)\n",
    "        # dst라는 파일이름으로 새로 저장할 이름 저장\n",
    "        dst = os.path.join(all_images_dir, fname)\n",
    "        # src에서 dst라는 이름으로 파일을 복사.\n",
    "        shutil.copyfile(src, dst)\n",
    "\n",
    "\n",
    "    for fname in file_list_1:\n",
    "\n",
    "        src = os.path.join(path_1, fname)\n",
    "        dst = os.path.join(all_images_dir, fname)\n",
    "        shutil.copyfile(src, dst)"
   ]
  },
  {
   "cell_type": "code",
   "execution_count": 172,
   "metadata": {},
   "outputs": [
    {
     "data": {
      "text/plain": [
       "277524"
      ]
     },
     "execution_count": 172,
     "metadata": {},
     "output_type": "execute_result"
    }
   ],
   "source": [
    "# all_images_dir 폴더에 모든 이미지 복사여부 확인\n",
    "len(os.listdir('all_images_dir'))"
   ]
  },
  {
   "cell_type": "markdown",
   "metadata": {},
   "source": [
    "### 이미지 이름에서 PATIENT ID와 TARGET 값 추출"
   ]
  },
  {
   "cell_type": "code",
   "execution_count": 173,
   "metadata": {},
   "outputs": [
    {
     "data": {
      "text/html": [
       "<div>\n",
       "<style scoped>\n",
       "    .dataframe tbody tr th:only-of-type {\n",
       "        vertical-align: middle;\n",
       "    }\n",
       "\n",
       "    .dataframe tbody tr th {\n",
       "        vertical-align: top;\n",
       "    }\n",
       "\n",
       "    .dataframe thead th {\n",
       "        text-align: right;\n",
       "    }\n",
       "</style>\n",
       "<table border=\"1\" class=\"dataframe\">\n",
       "  <thead>\n",
       "    <tr style=\"text-align: right;\">\n",
       "      <th></th>\n",
       "      <th>image_id</th>\n",
       "    </tr>\n",
       "  </thead>\n",
       "  <tbody>\n",
       "    <tr>\n",
       "      <th>0</th>\n",
       "      <td>10253_idx5_x1001_y1001_class0.png</td>\n",
       "    </tr>\n",
       "    <tr>\n",
       "      <th>1</th>\n",
       "      <td>10253_idx5_x1001_y1051_class0.png</td>\n",
       "    </tr>\n",
       "    <tr>\n",
       "      <th>2</th>\n",
       "      <td>10253_idx5_x1001_y1101_class0.png</td>\n",
       "    </tr>\n",
       "    <tr>\n",
       "      <th>3</th>\n",
       "      <td>10253_idx5_x1001_y1151_class0.png</td>\n",
       "    </tr>\n",
       "    <tr>\n",
       "      <th>4</th>\n",
       "      <td>10253_idx5_x1001_y1201_class0.png</td>\n",
       "    </tr>\n",
       "  </tbody>\n",
       "</table>\n",
       "</div>"
      ],
      "text/plain": [
       "                            image_id\n",
       "0  10253_idx5_x1001_y1001_class0.png\n",
       "1  10253_idx5_x1001_y1051_class0.png\n",
       "2  10253_idx5_x1001_y1101_class0.png\n",
       "3  10253_idx5_x1001_y1151_class0.png\n",
       "4  10253_idx5_x1001_y1201_class0.png"
      ]
     },
     "execution_count": 173,
     "metadata": {},
     "output_type": "execute_result"
    }
   ],
   "source": [
    "# 이미지 id 정보를 담은 df생성\n",
    "image_list = os.listdir('all_images_dir')\n",
    "\n",
    "df_data = pd.DataFrame(image_list, columns=['image_id'])\n",
    "df_data.head()"
   ]
  },
  {
   "cell_type": "code",
   "execution_count": 174,
   "metadata": {},
   "outputs": [
    {
     "data": {
      "text/html": [
       "<div>\n",
       "<style scoped>\n",
       "    .dataframe tbody tr th:only-of-type {\n",
       "        vertical-align: middle;\n",
       "    }\n",
       "\n",
       "    .dataframe tbody tr th {\n",
       "        vertical-align: top;\n",
       "    }\n",
       "\n",
       "    .dataframe thead th {\n",
       "        text-align: right;\n",
       "    }\n",
       "</style>\n",
       "<table border=\"1\" class=\"dataframe\">\n",
       "  <thead>\n",
       "    <tr style=\"text-align: right;\">\n",
       "      <th></th>\n",
       "      <th>image_id</th>\n",
       "      <th>patient_id</th>\n",
       "      <th>target</th>\n",
       "    </tr>\n",
       "  </thead>\n",
       "  <tbody>\n",
       "    <tr>\n",
       "      <th>0</th>\n",
       "      <td>10253_idx5_x1001_y1001_class0.png</td>\n",
       "      <td>10253</td>\n",
       "      <td>0</td>\n",
       "    </tr>\n",
       "    <tr>\n",
       "      <th>1</th>\n",
       "      <td>10253_idx5_x1001_y1051_class0.png</td>\n",
       "      <td>10253</td>\n",
       "      <td>0</td>\n",
       "    </tr>\n",
       "    <tr>\n",
       "      <th>2</th>\n",
       "      <td>10253_idx5_x1001_y1101_class0.png</td>\n",
       "      <td>10253</td>\n",
       "      <td>0</td>\n",
       "    </tr>\n",
       "    <tr>\n",
       "      <th>3</th>\n",
       "      <td>10253_idx5_x1001_y1151_class0.png</td>\n",
       "      <td>10253</td>\n",
       "      <td>0</td>\n",
       "    </tr>\n",
       "    <tr>\n",
       "      <th>4</th>\n",
       "      <td>10253_idx5_x1001_y1201_class0.png</td>\n",
       "      <td>10253</td>\n",
       "      <td>0</td>\n",
       "    </tr>\n",
       "    <tr>\n",
       "      <th>5</th>\n",
       "      <td>10253_idx5_x1001_y1251_class0.png</td>\n",
       "      <td>10253</td>\n",
       "      <td>0</td>\n",
       "    </tr>\n",
       "    <tr>\n",
       "      <th>6</th>\n",
       "      <td>10253_idx5_x1001_y1301_class0.png</td>\n",
       "      <td>10253</td>\n",
       "      <td>0</td>\n",
       "    </tr>\n",
       "    <tr>\n",
       "      <th>7</th>\n",
       "      <td>10253_idx5_x1001_y1351_class0.png</td>\n",
       "      <td>10253</td>\n",
       "      <td>0</td>\n",
       "    </tr>\n",
       "    <tr>\n",
       "      <th>8</th>\n",
       "      <td>10253_idx5_x1001_y1501_class0.png</td>\n",
       "      <td>10253</td>\n",
       "      <td>0</td>\n",
       "    </tr>\n",
       "    <tr>\n",
       "      <th>9</th>\n",
       "      <td>10253_idx5_x1001_y1551_class0.png</td>\n",
       "      <td>10253</td>\n",
       "      <td>0</td>\n",
       "    </tr>\n",
       "  </tbody>\n",
       "</table>\n",
       "</div>"
      ],
      "text/plain": [
       "                            image_id patient_id target\n",
       "0  10253_idx5_x1001_y1001_class0.png      10253      0\n",
       "1  10253_idx5_x1001_y1051_class0.png      10253      0\n",
       "2  10253_idx5_x1001_y1101_class0.png      10253      0\n",
       "3  10253_idx5_x1001_y1151_class0.png      10253      0\n",
       "4  10253_idx5_x1001_y1201_class0.png      10253      0\n",
       "5  10253_idx5_x1001_y1251_class0.png      10253      0\n",
       "6  10253_idx5_x1001_y1301_class0.png      10253      0\n",
       "7  10253_idx5_x1001_y1351_class0.png      10253      0\n",
       "8  10253_idx5_x1001_y1501_class0.png      10253      0\n",
       "9  10253_idx5_x1001_y1551_class0.png      10253      0"
      ]
     },
     "execution_count": 174,
     "metadata": {},
     "output_type": "execute_result"
    }
   ],
   "source": [
    "# 이미지 id를 내용별로 나누고 새로운 컬럼에 값 삽입\n",
    "\n",
    "# string형식인 image id에서 인덱싱, 추출을 이용하여 정보 분리하는 함수생성\n",
    "\n",
    "# image id 예시: '14211_idx5_x2401_y1301_class1.png' \n",
    "# -> 14211(환자ID), class1(인덱싱자리5에 있는 숫자 1이 종속변수)\n",
    "\n",
    "def extract_patient_id(x):\n",
    "    a = x.split('_')\n",
    "    patient_id = a[0]    \n",
    "    return patient_id\n",
    "\n",
    "def extract_target(x):\n",
    "    a = x.split('_')\n",
    "    b = a[4]\n",
    "    target = b[5]\n",
    "    \n",
    "    return target\n",
    "\n",
    "\n",
    "# 'patient_id'컬럼생성, 생성한 함수를 이용한 값 생성\n",
    "df_data['patient_id'] = df_data['image_id'].apply(extract_patient_id)\n",
    "# 'target'컬럼생성, 생성한 함수를 이용한 값 생성\n",
    "df_data['target'] = df_data['image_id'].apply(extract_target)\n",
    "\n",
    "df_data.head(10)"
   ]
  },
  {
   "cell_type": "code",
   "execution_count": 175,
   "metadata": {},
   "outputs": [
    {
     "data": {
      "text/plain": [
       "(277524, 3)"
      ]
     },
     "execution_count": 175,
     "metadata": {},
     "output_type": "execute_result"
    }
   ],
   "source": [
    "# df구조확인\n",
    "df_data.shape"
   ]
  },
  {
   "cell_type": "code",
   "execution_count": 176,
   "metadata": {},
   "outputs": [],
   "source": [
    "# # 이미지 확인\n",
    "# IMAGE_PATH = 'all_images_dir/'\n",
    "\n",
    "# draw_category_images('target',4, df_data, IMAGE_PATH)"
   ]
  },
  {
   "cell_type": "code",
   "execution_count": 177,
   "metadata": {},
   "outputs": [
    {
     "data": {
      "text/plain": [
       "0    198738\n",
       "1     78786\n",
       "Name: target, dtype: int64"
      ]
     },
     "execution_count": 177,
     "metadata": {},
     "output_type": "execute_result"
    }
   ],
   "source": [
    "# target 0과 1인 파일 개수 비율 확인\n",
    "df_data['target'].value_counts()\n",
    "\n",
    "# 비율조정필요(양성의 수가 너무 적기 때문에 학습에 어려움, 성능에 영향)"
   ]
  },
  {
   "cell_type": "code",
   "execution_count": 178,
   "metadata": {},
   "outputs": [
    {
     "data": {
      "text/plain": [
       "1    78786\n",
       "0    78786\n",
       "Name: target, dtype: int64"
      ]
     },
     "execution_count": 178,
     "metadata": {},
     "output_type": "execute_result"
    }
   ],
   "source": [
    "# 비율조정필요 (양성의 수가 너무 적기 때문에 학습에 어려움, 성능에 영향)\n",
    "SAMPLE_SIZE = 78786 # target 1인 파일의 수\n",
    "IMAGE_SIZE = 50\n",
    "\n",
    "# target 0인 파일에서 샘플개수만큼 추출 (total = 198738)\n",
    "df_0 = df_data[df_data['target'] == '0'].sample(SAMPLE_SIZE, random_state=101)\n",
    "# target 0인 파일에서 샘플개수만큼 추출 (total = 78786)\n",
    "df_1 = df_data[df_data['target'] == '1'].sample(SAMPLE_SIZE, random_state=101)\n",
    "\n",
    "# df_0과 df_1 병합\n",
    "df_data = pd.concat([df_0, df_1], axis=0).reset_index(drop=True)\n",
    "\n",
    "# target 0과 1의 비율 조정 완료\n",
    "df_data['target'].value_counts()"
   ]
  },
  {
   "cell_type": "markdown",
   "metadata": {},
   "source": [
    "### SPLITING TRAIN/TEST DATA"
   ]
  },
  {
   "cell_type": "code",
   "execution_count": 179,
   "metadata": {},
   "outputs": [
    {
     "name": "stdout",
     "output_type": "stream",
     "text": [
      "(141814, 3)\n",
      "(15758, 3)\n"
     ]
    }
   ],
   "source": [
    "# stratify=y -> test셋에 0과 1의 비율을 맞추어줌\n",
    "y = df_data['target']\n",
    "\n",
    "df_train, df_test = train_test_split(df_data, test_size=0.10, random_state=101, stratify=y)\n",
    "\n",
    "print(df_train.shape)\n",
    "print(df_test.shape)"
   ]
  },
  {
   "cell_type": "code",
   "execution_count": 180,
   "metadata": {},
   "outputs": [
    {
     "name": "stdout",
     "output_type": "stream",
     "text": [
      "<TrainSet target value counts>\n",
      "1    70907\n",
      "0    70907\n",
      "Name: target, dtype: int64\n",
      "--------------------\n",
      "<TestSet target value counts>\n",
      "1    7879\n",
      "0    7879\n",
      "Name: target, dtype: int64\n"
     ]
    }
   ],
   "source": [
    "print('<TrainSet target value counts>')\n",
    "print(df_train['target'].value_counts())\n",
    "print('-'*20)\n",
    "print('<TestSet target value counts>')\n",
    "print(df_test['target'].value_counts())"
   ]
  },
  {
   "cell_type": "code",
   "execution_count": 181,
   "metadata": {},
   "outputs": [],
   "source": [
    "# 처음 열 때 이후에 실행 X !!\n",
    "\n",
    "# 분류한 훈련셋과 검증셋 이미지데이터를 이동하기 위해 폴더 또한 동일하게 생성 및 나누고 이미지를 저장하는 과정\n",
    "\n",
    "\n",
    "# 새로운 폴더 생성\n",
    "base_dir = 'base_dir'\n",
    "os.mkdir(base_dir)\n",
    "\n",
    "\n",
    "# base_dir폴더 내에 아래 구조대로 생성\n",
    "\n",
    "# train_dir\n",
    "    # a_no_idc\n",
    "    # b_has_idc\n",
    "\n",
    "# test_dir\n",
    "    # a_no_idc\n",
    "    # b_has_idc\n",
    "\n",
    "\n",
    "\n",
    "# base_dir 아래 새 폴더 생성\n",
    "# train_dir\n",
    "train_dir = os.path.join(base_dir, 'train_dir') # 경로 생성\n",
    "os.mkdir(train_dir) # 생성경로대로 새 디렉토리(폴더) 생성\n",
    "\n",
    "# test_dir\n",
    "test_dir = os.path.join(base_dir, 'test_dir')\n",
    "os.mkdir(test_dir)\n",
    "\n",
    "\n",
    "# [CREATE FOLDERS INSIDE THE TRAIN AND testIDATION FOLDERS]\n",
    "# Inside each folder we create seperate folders for each class\n",
    "\n",
    "# train_dir 아래 target 0과 1에 해당하는 폴더 생성\n",
    "a_no_idc = os.path.join(train_dir, 'a_no_idc')\n",
    "os.mkdir(a_no_idc)\n",
    "b_has_idc = os.path.join(train_dir, 'b_has_idc')\n",
    "os.mkdir(b_has_idc)\n",
    "\n",
    "\n",
    "# test_dir 아래 target 0과 1에 해당하는 폴더 생성\n",
    "a_no_idc = os.path.join(test_dir, 'a_no_idc')\n",
    "os.mkdir(a_no_idc)\n",
    "b_has_idc = os.path.join(test_dir, 'b_has_idc')\n",
    "os.mkdir(b_has_idc)"
   ]
  },
  {
   "cell_type": "code",
   "execution_count": 182,
   "metadata": {},
   "outputs": [
    {
     "data": {
      "text/plain": [
       "['a_no_idc', 'b_has_idc']"
      ]
     },
     "execution_count": 182,
     "metadata": {},
     "output_type": "execute_result"
    }
   ],
   "source": [
    "# 폴더 생성 확인\n",
    "os.listdir('base_dir/train_dir')"
   ]
  },
  {
   "cell_type": "code",
   "execution_count": 183,
   "metadata": {},
   "outputs": [],
   "source": [
    "# df_data의 인덱스를 image_id로 설정\n",
    "df_data.set_index('image_id', inplace=True)"
   ]
  },
  {
   "cell_type": "code",
   "execution_count": 184,
   "metadata": {},
   "outputs": [
    {
     "data": {
      "text/html": [
       "<div>\n",
       "<style scoped>\n",
       "    .dataframe tbody tr th:only-of-type {\n",
       "        vertical-align: middle;\n",
       "    }\n",
       "\n",
       "    .dataframe tbody tr th {\n",
       "        vertical-align: top;\n",
       "    }\n",
       "\n",
       "    .dataframe thead th {\n",
       "        text-align: right;\n",
       "    }\n",
       "</style>\n",
       "<table border=\"1\" class=\"dataframe\">\n",
       "  <thead>\n",
       "    <tr style=\"text-align: right;\">\n",
       "      <th></th>\n",
       "      <th>patient_id</th>\n",
       "      <th>target</th>\n",
       "    </tr>\n",
       "    <tr>\n",
       "      <th>image_id</th>\n",
       "      <th></th>\n",
       "      <th></th>\n",
       "    </tr>\n",
       "  </thead>\n",
       "  <tbody>\n",
       "    <tr>\n",
       "      <th>10288_idx5_x1251_y301_class0.png</th>\n",
       "      <td>10288</td>\n",
       "      <td>0</td>\n",
       "    </tr>\n",
       "    <tr>\n",
       "      <th>10301_idx5_x201_y1501_class0.png</th>\n",
       "      <td>10301</td>\n",
       "      <td>0</td>\n",
       "    </tr>\n",
       "    <tr>\n",
       "      <th>16550_idx5_x3551_y1251_class0.png</th>\n",
       "      <td>16550</td>\n",
       "      <td>0</td>\n",
       "    </tr>\n",
       "    <tr>\n",
       "      <th>10305_idx5_x2251_y651_class0.png</th>\n",
       "      <td>10305</td>\n",
       "      <td>0</td>\n",
       "    </tr>\n",
       "    <tr>\n",
       "      <th>12819_idx5_x2351_y1951_class0.png</th>\n",
       "      <td>12819</td>\n",
       "      <td>0</td>\n",
       "    </tr>\n",
       "  </tbody>\n",
       "</table>\n",
       "</div>"
      ],
      "text/plain": [
       "                                  patient_id target\n",
       "image_id                                           \n",
       "10288_idx5_x1251_y301_class0.png       10288      0\n",
       "10301_idx5_x201_y1501_class0.png       10301      0\n",
       "16550_idx5_x3551_y1251_class0.png      16550      0\n",
       "10305_idx5_x2251_y651_class0.png       10305      0\n",
       "12819_idx5_x2351_y1951_class0.png      12819      0"
      ]
     },
     "execution_count": 184,
     "metadata": {},
     "output_type": "execute_result"
    }
   ],
   "source": [
    "df_data.head()"
   ]
  },
  {
   "cell_type": "code",
   "execution_count": 185,
   "metadata": {},
   "outputs": [],
   "source": [
    "# train과 test 이미지 목록을 리스트로 가져온다.\n",
    "train_list = list(df_train['image_id'])\n",
    "test_list = list(df_test['image_id'])\n",
    "\n",
    "\n",
    "\n",
    "# 폴더 생성 및 Train 이미지 복사 이동\n",
    "\n",
    "for image in train_list:\n",
    "    \n",
    "    # image에 image_id들이 담겨있다.\n",
    "    fname = image\n",
    "    # image_id별 target컬럼만 추출\n",
    "    target = df_data.loc[image,'target']\n",
    "    \n",
    "    # target대로 이미지 폴더에 분류\n",
    "    if target == '0':\n",
    "        label = 'a_no_idc'\n",
    "    if target == '1':\n",
    "        label = 'b_has_idc'\n",
    "    \n",
    "    #원본통합 폴더(all_images_dir)에서 train set에 해당하는 이미지를 복사, 이동.\n",
    "    src = os.path.join(all_images_dir, fname)\n",
    "    dst = os.path.join(train_dir, label, fname)\n",
    "    shutil.move(src, dst)\n",
    "    \n",
    "\n",
    "# 폴더 생성 및 Test 이미지 복사 이동\n",
    "\n",
    "for image in test_list:\n",
    "    \n",
    "    # the id in the csv file does not have the .tif extension therefore we add it here\n",
    "    fname = image\n",
    "    # get the label for a certain image\n",
    "    target = df_data.loc[image,'target']\n",
    "    \n",
    "    # these must match the folder names\n",
    "    if target == '0':\n",
    "        label = 'a_no_idc'\n",
    "    if target == '1':\n",
    "        label = 'b_has_idc'\n",
    "    \n",
    "\n",
    "\n",
    "    src = os.path.join(all_images_dir, fname)\n",
    "    dst = os.path.join(test_dir, label, fname)\n",
    "    shutil.move(src, dst)"
   ]
  },
  {
   "cell_type": "code",
   "execution_count": 186,
   "metadata": {},
   "outputs": [
    {
     "name": "stdout",
     "output_type": "stream",
     "text": [
      "70907\n",
      "70907\n",
      "--------------------\n",
      "7879\n",
      "7879\n"
     ]
    }
   ],
   "source": [
    "# 폴더별 이미지개수 확인\n",
    "print(len(os.listdir('base_dir/train_dir/a_no_idc')))\n",
    "print(len(os.listdir('base_dir/train_dir/b_has_idc')))\n",
    "print('-'*20)\n",
    "print(len(os.listdir('base_dir/test_dir/a_no_idc')))\n",
    "print(len(os.listdir('base_dir/test_dir/b_has_idc')))"
   ]
  },
  {
   "cell_type": "markdown",
   "metadata": {},
   "source": [
    "### 2. MODELING"
   ]
  },
  {
   "cell_type": "code",
   "execution_count": 187,
   "metadata": {},
   "outputs": [],
   "source": [
    "train_path = 'base_dir/train_dir'\n",
    "test_path = 'base_dir/test_dir'\n",
    "\n",
    "\n",
    "num_train_samples = len(df_train)\n",
    "num_test_samples = len(df_test)\n",
    "train_batch_size = 10\n",
    "test_batch_size = 10\n",
    "\n",
    "\n",
    "train_steps = np.ceil(num_train_samples / train_batch_size)\n",
    "test_steps = np.ceil(num_test_samples / test_batch_size)\n",
    "\n",
    "datagen = ImageDataGenerator(rescale=1.0/255)"
   ]
  },
  {
   "cell_type": "code",
   "execution_count": 188,
   "metadata": {},
   "outputs": [
    {
     "name": "stdout",
     "output_type": "stream",
     "text": [
      "Found 141814 images belonging to 2 classes.\n",
      "Found 15758 images belonging to 2 classes.\n"
     ]
    }
   ],
   "source": [
    "train_gen = datagen.flow_from_directory(train_path,\n",
    "                                        target_size=(IMAGE_SIZE,IMAGE_SIZE),\n",
    "                                        batch_size=train_batch_size,\n",
    "                                        class_mode='categorical')\n",
    "\n",
    "test_gen = datagen.flow_from_directory(test_path,\n",
    "                                        target_size=(IMAGE_SIZE,IMAGE_SIZE),\n",
    "                                        batch_size=test_batch_size,\n",
    "                                        class_mode='categorical')\n",
    "\n",
    "# # 테스트셋 섞지 않음(shuffle=False)\n",
    "# test_gen = datagen.flow_from_directory(testid_path,\n",
    "#                                         target_size=(IMAGE_SIZE,IMAGE_SIZE),\n",
    "#                                         batch_size=1,\n",
    "#                                         class_mode='categorical',\n",
    "#                                         shuffle=False)"
   ]
  },
  {
   "cell_type": "code",
   "execution_count": 189,
   "metadata": {},
   "outputs": [
    {
     "name": "stdout",
     "output_type": "stream",
     "text": [
      "_________________________________________________________________\n",
      "Layer (type)                 Output Shape              Param #   \n",
      "=================================================================\n",
      "conv2d_9 (Conv2D)            (None, 48, 48, 32)        896       \n",
      "_________________________________________________________________\n",
      "conv2d_10 (Conv2D)           (None, 46, 46, 32)        9248      \n",
      "_________________________________________________________________\n",
      "conv2d_11 (Conv2D)           (None, 44, 44, 32)        9248      \n",
      "_________________________________________________________________\n",
      "max_pooling2d_3 (MaxPooling2 (None, 22, 22, 32)        0         \n",
      "_________________________________________________________________\n",
      "dropout_4 (Dropout)          (None, 22, 22, 32)        0         \n",
      "_________________________________________________________________\n",
      "conv2d_12 (Conv2D)           (None, 20, 20, 64)        18496     \n",
      "_________________________________________________________________\n",
      "conv2d_13 (Conv2D)           (None, 18, 18, 64)        36928     \n",
      "_________________________________________________________________\n",
      "conv2d_14 (Conv2D)           (None, 16, 16, 64)        36928     \n",
      "_________________________________________________________________\n",
      "max_pooling2d_4 (MaxPooling2 (None, 8, 8, 64)          0         \n",
      "_________________________________________________________________\n",
      "dropout_5 (Dropout)          (None, 8, 8, 64)          0         \n",
      "_________________________________________________________________\n",
      "conv2d_15 (Conv2D)           (None, 6, 6, 128)         73856     \n",
      "_________________________________________________________________\n",
      "conv2d_16 (Conv2D)           (None, 4, 4, 128)         147584    \n",
      "_________________________________________________________________\n",
      "conv2d_17 (Conv2D)           (None, 2, 2, 128)         147584    \n",
      "_________________________________________________________________\n",
      "max_pooling2d_5 (MaxPooling2 (None, 1, 1, 128)         0         \n",
      "_________________________________________________________________\n",
      "dropout_6 (Dropout)          (None, 1, 1, 128)         0         \n",
      "_________________________________________________________________\n",
      "flatten_1 (Flatten)          (None, 128)               0         \n",
      "_________________________________________________________________\n",
      "dense_2 (Dense)              (None, 256)               33024     \n",
      "_________________________________________________________________\n",
      "dropout_7 (Dropout)          (None, 256)               0         \n",
      "_________________________________________________________________\n",
      "dense_3 (Dense)              (None, 2)                 514       \n",
      "=================================================================\n",
      "Total params: 514,306\n",
      "Trainable params: 514,306\n",
      "Non-trainable params: 0\n",
      "_________________________________________________________________\n"
     ]
    }
   ],
   "source": [
    "def Model_Compiling_CNN():\n",
    "    kernel_size = (3,3)\n",
    "    pool_size= (2,2)\n",
    "    first_filters = 32\n",
    "    second_filters = 64\n",
    "    third_filters = 128\n",
    "\n",
    "    dropout_conv = 0.3\n",
    "    dropout_dense = 0.3\n",
    "\n",
    "    model = Sequential()\n",
    "    model.add(Conv2D(first_filters, kernel_size, activation = 'relu', \n",
    "                     input_shape = (IMAGE_SIZE, IMAGE_SIZE, 3)))\n",
    "    model.add(Conv2D(first_filters, kernel_size, activation = 'relu'))\n",
    "    model.add(Conv2D(first_filters, kernel_size, activation = 'relu'))\n",
    "    model.add(MaxPooling2D(pool_size = pool_size)) \n",
    "    model.add(Dropout(dropout_conv))\n",
    "\n",
    "    model.add(Conv2D(second_filters, kernel_size, activation ='relu'))\n",
    "    model.add(Conv2D(second_filters, kernel_size, activation ='relu'))\n",
    "    model.add(Conv2D(second_filters, kernel_size, activation ='relu'))\n",
    "    model.add(MaxPooling2D(pool_size = pool_size))\n",
    "    model.add(Dropout(dropout_conv))\n",
    "\n",
    "    model.add(Conv2D(third_filters, kernel_size, activation ='relu'))\n",
    "    model.add(Conv2D(third_filters, kernel_size, activation ='relu'))\n",
    "    model.add(Conv2D(third_filters, kernel_size, activation ='relu'))\n",
    "    model.add(MaxPooling2D(pool_size = pool_size))\n",
    "    model.add(Dropout(dropout_conv))\n",
    "\n",
    "    model.add(Flatten())\n",
    "    model.add(Dense(256, activation = \"relu\"))\n",
    "    model.add(Dropout(dropout_dense))\n",
    "    model.add(Dense(2, activation = \"softmax\"))\n",
    "\n",
    "    model.summary()\n",
    "    \n",
    "model = Model_Compiling_CNN()\n",
    "model.compile(Adam(lr=0.0001), loss='binary_crossentropy', \n",
    "              metrics=['accuracy'])"
   ]
  },
  {
   "cell_type": "code",
   "execution_count": null,
   "metadata": {},
   "outputs": [
    {
     "name": "stdout",
     "output_type": "stream",
     "text": [
      "Epoch 1/8\n",
      " 3115/14182 [=====>........................] - ETA: 35:47 - loss: 0.5226 - acc: 0.7491 ETA: 36:20 - loss - ETA: 36:11 - loss: 0.5237 - acc:  - ETA: 36:04 - loss: 0.52 - ETA: 35:56  - ETA: 35:53 - loss - ETA: 35:50 - loss: 0.5225 - acc: 0.74 - ETA: 35:5"
     ]
    }
   ],
   "source": [
    "filepath = \"model.h5\"\n",
    "checkpoint = ModelCheckpoint(filepath, monitor='test_acc', verbose=1, \n",
    "                             save_best_only=True, mode='max')\n",
    "\n",
    "reduce_lr = ReduceLROnPlateau(monitor='test_acc', factor=0.5, patience=3, \n",
    "                                   verbose=1, mode='max', min_lr=0.00001)\n",
    "                              \n",
    "                              \n",
    "callbacks_list = [checkpoint, reduce_lr]\n",
    "\n",
    "history = model.fit_generator(train_gen, steps_per_epoch=train_steps, \n",
    "                    validation_data=test_gen,\n",
    "                    validation_steps=test_steps,\n",
    "                    epochs=2, verbose=1,\n",
    "                   callbacks=callbacks_list)"
   ]
  },
  {
   "cell_type": "code",
   "execution_count": 136,
   "metadata": {},
   "outputs": [
    {
     "data": {
      "text/plain": [
       "['loss', 'acc']"
      ]
     },
     "execution_count": 136,
     "metadata": {},
     "output_type": "execute_result"
    }
   ],
   "source": [
    "# get the metric names so we can use evaulate_generator\n",
    "model.metrics_names"
   ]
  },
  {
   "cell_type": "code",
   "execution_count": null,
   "metadata": {},
   "outputs": [],
   "source": [
    "# Here the best epoch will be used.\n",
    "model.load_weights('model.h5')\n",
    "\n",
    "test_loss, test_acc = \\\n",
    "model.etestuate_generator(test_gen, \n",
    "                        steps=len(df_test))\n",
    "\n",
    "print('test_loss:', test_loss)\n",
    "print('test_acc:', test_acc)"
   ]
  },
  {
   "cell_type": "code",
   "execution_count": 137,
   "metadata": {},
   "outputs": [
    {
     "name": "stdout",
     "output_type": "stream",
     "text": [
      "1576/1576 [==============================] - 87s 55ms/step\n"
     ]
    },
    {
     "data": {
      "text/plain": [
       "(15758, 2)"
      ]
     },
     "execution_count": 137,
     "metadata": {},
     "output_type": "execute_result"
    }
   ],
   "source": [
    "# 무작위 추출을 통한 검증\n",
    "predictions = model.predict_generator(test_gen, steps = len(df_test), verbose = 1)\n",
    "predictions.shape"
   ]
  },
  {
   "cell_type": "code",
   "execution_count": 138,
   "metadata": {},
   "outputs": [
    {
     "data": {
      "text/plain": [
       "{'a_no_idc': 0, 'b_has_idc': 1}"
      ]
     },
     "execution_count": 138,
     "metadata": {},
     "output_type": "execute_result"
    }
   ],
   "source": [
    "test_gen.class_indices"
   ]
  },
  {
   "cell_type": "code",
   "execution_count": 139,
   "metadata": {},
   "outputs": [
    {
     "data": {
      "text/html": [
       "<div>\n",
       "<style scoped>\n",
       "    .dataframe tbody tr th:only-of-type {\n",
       "        vertical-align: middle;\n",
       "    }\n",
       "\n",
       "    .dataframe tbody tr th {\n",
       "        vertical-align: top;\n",
       "    }\n",
       "\n",
       "    .dataframe thead th {\n",
       "        text-align: right;\n",
       "    }\n",
       "</style>\n",
       "<table border=\"1\" class=\"dataframe\">\n",
       "  <thead>\n",
       "    <tr style=\"text-align: right;\">\n",
       "      <th></th>\n",
       "      <th>no_idc</th>\n",
       "      <th>has_idc</th>\n",
       "    </tr>\n",
       "  </thead>\n",
       "  <tbody>\n",
       "    <tr>\n",
       "      <th>0</th>\n",
       "      <td>0.101954</td>\n",
       "      <td>0.898046</td>\n",
       "    </tr>\n",
       "    <tr>\n",
       "      <th>1</th>\n",
       "      <td>0.094674</td>\n",
       "      <td>0.905326</td>\n",
       "    </tr>\n",
       "    <tr>\n",
       "      <th>2</th>\n",
       "      <td>0.320054</td>\n",
       "      <td>0.679946</td>\n",
       "    </tr>\n",
       "    <tr>\n",
       "      <th>3</th>\n",
       "      <td>0.070316</td>\n",
       "      <td>0.929684</td>\n",
       "    </tr>\n",
       "    <tr>\n",
       "      <th>4</th>\n",
       "      <td>0.941804</td>\n",
       "      <td>0.058196</td>\n",
       "    </tr>\n",
       "  </tbody>\n",
       "</table>\n",
       "</div>"
      ],
      "text/plain": [
       "     no_idc   has_idc\n",
       "0  0.101954  0.898046\n",
       "1  0.094674  0.905326\n",
       "2  0.320054  0.679946\n",
       "3  0.070316  0.929684\n",
       "4  0.941804  0.058196"
      ]
     },
     "execution_count": 139,
     "metadata": {},
     "output_type": "execute_result"
    }
   ],
   "source": [
    "# 검증결과 데이터프레임화\n",
    "# The columns need to be oredered to match the output of the previous cell\n",
    "df_preds = pd.DataFrame(predictions, columns=['no_idc', 'has_idc'])\n",
    "df_preds.head()"
   ]
  },
  {
   "cell_type": "code",
   "execution_count": null,
   "metadata": {},
   "outputs": [],
   "source": [
    "y_true = test_gen.classes\n",
    "\n",
    "# Get the predicted labels as probabilities\n",
    "y_pred = df_preds['has_idc']\n",
    "\n",
    "from sklearn.metrics import roc_auc_score\n",
    "roc_auc_score(y_true, y_pred)\n",
    "# auc점수 확인 - 의료에서 중요 (FN이 적은 것이 중요하기 때문)"
   ]
  },
  {
   "cell_type": "code",
   "execution_count": 141,
   "metadata": {},
   "outputs": [],
   "source": [
    "test_labels = test_gen.classes\n",
    "\n",
    "# argmax returns the index of the max value in a row\n",
    "cm = confusion_matrix(test_labels, predictions.argmax(axis=1))"
   ]
  },
  {
   "cell_type": "code",
   "execution_count": 142,
   "metadata": {},
   "outputs": [
    {
     "data": {
      "text/plain": [
       "{'a_no_idc': 0, 'b_has_idc': 1}"
      ]
     },
     "execution_count": 142,
     "metadata": {},
     "output_type": "execute_result"
    }
   ],
   "source": [
    "test_gen.class_indices"
   ]
  },
  {
   "cell_type": "code",
   "execution_count": 150,
   "metadata": {},
   "outputs": [
    {
     "data": {
      "text/plain": [
       "array([[3498, 4381],\n",
       "       [3434, 4445]], dtype=int64)"
      ]
     },
     "execution_count": 150,
     "metadata": {},
     "output_type": "execute_result"
    }
   ],
   "source": [
    "cm"
   ]
  },
  {
   "cell_type": "code",
   "execution_count": 151,
   "metadata": {},
   "outputs": [],
   "source": [
    "def plot_confusion_matrix(cm, target_names=None, cmap=None, normalize=True, labels=True, title='Confusion matrix'):\n",
    "    accuracy = np.trace(cm) / float(np.sum(cm))\n",
    "    misclass = 1 - accuracy\n",
    "\n",
    "    if cmap is None:\n",
    "        cmap = plt.get_cmap('Blues')\n",
    "\n",
    "    if normalize:\n",
    "        cm = cm.astype('float') / cm.sum(axis=1)[:, np.newaxis]\n",
    "        \n",
    "    plt.figure(figsize=(8, 6))\n",
    "    plt.imshow(cm, interpolation='nearest', cmap=cmap)\n",
    "    plt.title(title)\n",
    "    plt.colorbar()\n",
    "\n",
    "    thresh = cm.max() / 1.5 if normalize else cm.max() / 2\n",
    "    \n",
    "    if target_names is not None:\n",
    "        tick_marks = np.arange(len(target_names))\n",
    "        plt.xticks(tick_marks, target_names)\n",
    "        plt.yticks(tick_marks, target_names)\n",
    "    \n",
    "    if labels:\n",
    "        for i, j in itertools.product(range(cm.shape[0]), range(cm.shape[1])):\n",
    "            if normalize:\n",
    "                plt.text(j, i, \"{:0.4f}\".format(cm[i, j]),\n",
    "                         horizontalalignment=\"center\",\n",
    "                         color=\"white\" if cm[i, j] > thresh else \"black\")\n",
    "            else:\n",
    "                plt.text(j, i, \"{:,}\".format(cm[i, j]),\n",
    "                         horizontalalignment=\"center\",\n",
    "                         color=\"white\" if cm[i, j] > thresh else \"black\")\n",
    "\n",
    "    plt.tight_layout()\n",
    "    plt.ylabel('True label')\n",
    "    plt.xlabel('Predicted label\\naccuracy={:0.4f}; misclass={:0.4f}'.format(accuracy, misclass))\n",
    "    plt.show()"
   ]
  },
  {
   "cell_type": "code",
   "execution_count": 152,
   "metadata": {},
   "outputs": [
    {
     "data": {
      "image/png": "[encoded data removed]",
      "text/plain": [
       "<Figure size 576x432 with 2 Axes>"
      ]
     },
     "metadata": {
      "needs_background": "light"
     },
     "output_type": "display_data"
    }
   ],
   "source": [
    "cm_plot_labels = ['no_idc', 'has_idc']\n",
    "plot_confusion_matrix(cm, cm_plot_labels, title='Confusion Matrix')"
   ]
  },
  {
   "cell_type": "code",
   "execution_count": null,
   "metadata": {},
   "outputs": [],
   "source": [
    "# Accuracy(정확도)보다도 Recall(재현율) 과 F1 Score 중요.\n",
    "# Recall=TP/TP + FN, 즉 FN이 작아야하는 것이 의료에서 매우 중요, \n",
    "\n",
    "from sklearn.metrics import classification_report\n",
    "\n",
    "# Generate a classification report\n",
    "\n",
    "# For this to work we need y_pred as binary labels not as probabilities\n",
    "y_pred_binary = predictions.argmax(axis=1)\n",
    "\n",
    "report = classification_report(y_true, y_pred_binary, target_names=cm_plot_labels)\n",
    "\n",
    "print(report)"
   ]
  }
 ],
 "metadata": {
  "kernelspec": {
   "display_name": "Python 3",
   "language": "python",
   "name": "python3"
  },
  "language_info": {
   "codemirror_mode": {
    "name": "ipython",
    "version": 3
   },
   "file_extension": ".py",
   "mimetype": "text/x-python",
   "name": "python",
   "nbconvert_exporter": "python",
   "pygments_lexer": "ipython3",
   "version": "3.7.4"
  }
 },
 "nbformat": 4,
 "nbformat_minor": 4
}
